{
 "cells": [
  {
   "cell_type": "markdown",
   "id": "03135561",
   "metadata": {},
   "source": [
    "# Week 5 - NLP & Transformers (Hugging Face) المعالجة اللغوية\n",
    "\n",
    "**Arabic / العربية** ✅\n",
    "\n",
    "**English** ✅"
   ]
  },
  {
   "cell_type": "markdown",
   "id": "299024b0",
   "metadata": {},
   "source": [
    "## تعليمات التشغيل / Run instructions\n",
    "\n",
    "1. افتح هذا الملف في **Google Colab** مباشرة عبر: `File -> Upload notebook` أو اسحب الملف إلى Colab.\n",
    "2. من قائمة **Runtime -> Change runtime type** اختر **GPU** ثم اضغط Save.\n",
    "3. شغّل الخلايا بالترتيب من الأعلى إلى الأسفل.\n",
    "\n",
    "---\n",
    "\n",
    "## How to run\n",
    "\n",
    "1. Open this notebook in **Google Colab** (File → Upload notebook) or drag & drop the file into Colab.\n",
    "2. Go to **Runtime → Change runtime type** and select **GPU**, then Save.\n",
    "3. Run cells top to bottom.\n"
   ]
  },
  {
   "cell_type": "markdown",
   "id": "2945e966",
   "metadata": {},
   "source": [
    "### English: Hugging Face text classification example\n",
    "\n",
    "### العربي: مثال تصنيف نصوص باستخدام Hugging Face (تحويل مودل جاهز)"
   ]
  },
  {
   "cell_type": "code",
   "execution_count": null,
   "id": "930dc2c8",
   "metadata": {},
   "outputs": [],
   "source": [
    "# Install transformers in Colab (uncomment if needed)\n",
    "# !pip install -q transformers datasets\n",
    "\n",
    "from transformers import pipeline\n",
    "\n",
    "# English: Use pipeline for sentiment-analysis\n",
    "# العربي: استخدام pipeline لتحليل المشاعر\n",
    "nlp = pipeline('sentiment-analysis')\n",
    "print(nlp('I love machine learning!'))\n",
    "print(nlp('الذكاء الاصطناعي مجال رائع'))"
   ]
  }
 ],
 "metadata": {},
 "nbformat": 4,
 "nbformat_minor": 5
}
