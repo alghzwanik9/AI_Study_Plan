{
 "cells": [
  {
   "cell_type": "markdown",
   "id": "04ca5a4b",
   "metadata": {},
   "source": [
    "# Week 1 - Python, Numpy, Pandas (أساسيات)\n",
    "\n",
    "**Arabic / العربية** ✅\n",
    "\n",
    "**English** ✅"
   ]
  },
  {
   "cell_type": "markdown",
   "id": "db7ddb81",
   "metadata": {},
   "source": [
    "## تعليمات التشغيل / Run instructions\n",
    "\n",
    "1. افتح هذا الملف في **Google Colab** مباشرة عبر: `File -> Upload notebook` أو اسحب الملف إلى Colab.\n",
    "2. من قائمة **Runtime -> Change runtime type** اختر **GPU** ثم اضغط Save.\n",
    "3. شغّل الخلايا بالترتيب من الأعلى إلى الأسفل.\n",
    "\n",
    "---\n",
    "\n",
    "## How to run\n",
    "\n",
    "1. Open this notebook in **Google Colab** (File → Upload notebook) or drag & drop the file into Colab.\n",
    "2. Go to **Runtime → Change runtime type** and select **GPU**, then Save.\n",
    "3. Run cells top to bottom.\n"
   ]
  },
  {
   "cell_type": "markdown",
   "id": "933fa19b",
   "metadata": {},
   "source": [
    "### English: Python basics\n",
    "\n",
    "### العربي: أساسيات بايثون"
   ]
  },
  {
   "cell_type": "code",
   "execution_count": null,
   "id": "d7ac45f7",
   "metadata": {},
   "outputs": [],
   "source": [
    "# English: Import libraries\n",
    "# العربي: استيراد المكتبات\n",
    "import numpy as np\n",
    "import pandas as pd\n",
    "\n",
    "# English: Simple array operations\n",
    "# العربي: عمليات بسيطة على المصفوفات\n",
    "arr = np.array([1,2,3,4])\n",
    "print('Numpy array:', arr)\n",
    "\n",
    "# English: Create a DataFrame\n",
    "# العربي: إنشاء DataFrame\n",
    "DF = pd.DataFrame({'name':['a','b','c'], 'value':[10,20,30]})\n",
    "print('\\nPandas DataFrame:')\n",
    "print(DF)\n",
    "\n",
    "# English: Plot example (Matplotlib)\n",
    "# العربي: رسم بسيط\n",
    "import matplotlib.pyplot as plt\n",
    "plt.plot(DF['value'])\n",
    "plt.title('Example Plot')\n",
    "plt.show()"
   ]
  }
 ],
 "metadata": {},
 "nbformat": 4,
 "nbformat_minor": 5
}
