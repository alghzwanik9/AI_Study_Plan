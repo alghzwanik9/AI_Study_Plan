{
 "cells": [
  {
   "cell_type": "markdown",
   "id": "dd4e2cab",
   "metadata": {},
   "source": [
    "# Week 6 - GANs & Advanced CV (توليد الصور)\n",
    "\n",
    "**Arabic / العربية** ✅\n",
    "\n",
    "**English** ✅"
   ]
  },
  {
   "cell_type": "markdown",
   "id": "8d053980",
   "metadata": {},
   "source": [
    "## تعليمات التشغيل / Run instructions\n",
    "\n",
    "1. افتح هذا الملف في **Google Colab** مباشرة عبر: `File -> Upload notebook` أو اسحب الملف إلى Colab.\n",
    "2. من قائمة **Runtime -> Change runtime type** اختر **GPU** ثم اضغط Save.\n",
    "3. شغّل الخلايا بالترتيب من الأعلى إلى الأسفل.\n",
    "\n",
    "---\n",
    "\n",
    "## How to run\n",
    "\n",
    "1. Open this notebook in **Google Colab** (File → Upload notebook) or drag & drop the file into Colab.\n",
    "2. Go to **Runtime → Change runtime type** and select **GPU**, then Save.\n",
    "3. Run cells top to bottom.\n"
   ]
  },
  {
   "cell_type": "markdown",
   "id": "9d10b4db",
   "metadata": {},
   "source": [
    "### English: DCGAN simple example\n",
    "\n",
    "### العربي: مثال بسيط على DCGAN (توليد صور)"
   ]
  },
  {
   "cell_type": "code",
   "execution_count": null,
   "id": "cc419d8d",
   "metadata": {},
   "outputs": [],
   "source": [
    "import tensorflow as tf\n",
    "from tensorflow.keras import layers\n",
    "\n",
    "# Simple generator model example\n",
    "def make_generator_model():\n",
    "    model = tf.keras.Sequential()\n",
    "    model.add(layers.Dense(7*7*256, use_bias=False, input_shape=(100,)))\n",
    "    model.add(layers.BatchNormalization())\n",
    "    model.add(layers.LeakyReLU())\n",
    "    model.add(layers.Reshape((7,7,256)))\n",
    "    model.add(layers.Conv2DTranspose(128, (5,5), strides=(1,1), padding='same', use_bias=False))\n",
    "    model.add(layers.BatchNormalization())\n",
    "    model.add(layers.LeakyReLU())\n",
    "    model.add(layers.Conv2DTranspose(1, (5,5), strides=(2,2), padding='same', use_bias=False, activation='tanh'))\n",
    "    return model\n",
    "\n",
    "gen = make_generator_model()\n",
    "print(gen.summary())"
   ]
  }
 ],
 "metadata": {},
 "nbformat": 4,
 "nbformat_minor": 5
}
