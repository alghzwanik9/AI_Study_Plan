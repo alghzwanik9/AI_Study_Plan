{
 "cells": [
  {
   "cell_type": "markdown",
   "id": "27e0496c",
   "metadata": {},
   "source": [
    "# Week 7 - Final Project Template (مشروع متكامل)\n",
    "\n",
    "**Arabic / العربية** ✅\n",
    "\n",
    "**English** ✅"
   ]
  },
  {
   "cell_type": "markdown",
   "id": "8da3288b",
   "metadata": {},
   "source": [
    "## تعليمات التشغيل / Run instructions\n",
    "\n",
    "1. افتح هذا الملف في **Google Colab** مباشرة عبر: `File -> Upload notebook` أو اسحب الملف إلى Colab.\n",
    "2. من قائمة **Runtime -> Change runtime type** اختر **GPU** ثم اضغط Save.\n",
    "3. شغّل الخلايا بالترتيب من الأعلى إلى الأسفل.\n",
    "\n",
    "---\n",
    "\n",
    "## How to run\n",
    "\n",
    "1. Open this notebook in **Google Colab** (File → Upload notebook) or drag & drop the file into Colab.\n",
    "2. Go to **Runtime → Change runtime type** and select **GPU**, then Save.\n",
    "3. Run cells top to bottom.\n"
   ]
  },
  {
   "cell_type": "markdown",
   "id": "7bf19d65",
   "metadata": {},
   "source": [
    "### English: Final project template\n",
    "\n",
    "### العربي: قالب لمشروع نهائي - اتبع التعليمات داخل الخلايا"
   ]
  },
  {
   "cell_type": "code",
   "execution_count": null,
   "id": "e511a7fa",
   "metadata": {},
   "outputs": [],
   "source": [
    "# Example: Template to load dataset, build model, train and save\n",
    "import tensorflow as tf\n",
    "from tensorflow.keras import layers, models\n",
    "\n",
    "# Replace with your dataset path or TF dataset\n",
    "print('Replace this cell with your dataset loading code')\n",
    "\n",
    "# Simple model example\n",
    "model = models.Sequential([\n",
    "    layers.Flatten(input_shape=(28,28)),\n",
    "    layers.Dense(64, activation='relu'),\n",
    "    layers.Dense(10, activation='softmax')\n",
    "])\n",
    "model.compile(optimizer='adam', loss='sparse_categorical_crossentropy', metrics=['accuracy'])\n",
    "\n",
    "# model.fit(...)  # add training code here\n",
    "\n",
    "# model.save('my_final_model.h5')\n",
    "print('Use this notebook as a template for your final project')"
   ]
  }
 ],
 "metadata": {},
 "nbformat": 4,
 "nbformat_minor": 5
}
