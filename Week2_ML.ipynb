{
 "cells": [
  {
   "cell_type": "markdown",
   "id": "7e637f7c",
   "metadata": {},
   "source": [
    "# Week 2 - Machine Learning basics (ML أساسي)\n",
    "\n",
    "**Arabic / العربية** ✅\n",
    "\n",
    "**English** ✅"
   ]
  },
  {
   "cell_type": "markdown",
   "id": "1916e9a2",
   "metadata": {},
   "source": [
    "## تعليمات التشغيل / Run instructions\n",
    "\n",
    "1. افتح هذا الملف في **Google Colab** مباشرة عبر: `File -> Upload notebook` أو اسحب الملف إلى Colab.\n",
    "2. من قائمة **Runtime -> Change runtime type** اختر **GPU** ثم اضغط Save.\n",
    "3. شغّل الخلايا بالترتيب من الأعلى إلى الأسفل.\n",
    "\n",
    "---\n",
    "\n",
    "## How to run\n",
    "\n",
    "1. Open this notebook in **Google Colab** (File → Upload notebook) or drag & drop the file into Colab.\n",
    "2. Go to **Runtime → Change runtime type** and select **GPU**, then Save.\n",
    "3. Run cells top to bottom.\n"
   ]
  },
  {
   "cell_type": "markdown",
   "id": "8c76b0a3",
   "metadata": {},
   "source": [
    "### English: ML with scikit-learn\n",
    "\n",
    "### العربي: تعلم الآلة مع scikit-learn"
   ]
  },
  {
   "cell_type": "code",
   "execution_count": null,
   "id": "9642cbc3",
   "metadata": {},
   "outputs": [],
   "source": [
    "# English: Simple classification with Iris dataset\n",
    "# العربي: تصنيف بسيط باستخدام بيانات Iris\n",
    "from sklearn.datasets import load_iris\n",
    "from sklearn.model_selection import train_test_split\n",
    "from sklearn.ensemble import RandomForestClassifier\n",
    "from sklearn.metrics import accuracy_score\n",
    "\n",
    "iris = load_iris()\n",
    "X = iris.data\n",
    "y = iris.target\n",
    "X_train, X_test, y_train, y_test = train_test_split(X, y, test_size=0.2, random_state=42)\n",
    "\n",
    "clf = RandomForestClassifier()\n",
    "clf.fit(X_train, y_train)\n",
    "preds = clf.predict(X_test)\n",
    "print('Accuracy:', accuracy_score(y_test, preds))"
   ]
  }
 ],
 "metadata": {},
 "nbformat": 4,
 "nbformat_minor": 5
}
