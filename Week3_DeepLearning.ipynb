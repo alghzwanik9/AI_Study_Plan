{
 "cells": [
  {
   "cell_type": "markdown",
   "id": "6f2e56c6",
   "metadata": {},
   "source": [
    "# Week 3 - Deep Learning (MNIST + RNN) الشبكات العصبية\n",
    "\n",
    "**Arabic / العربية** ✅\n",
    "\n",
    "**English** ✅"
   ]
  },
  {
   "cell_type": "markdown",
   "id": "500a0819",
   "metadata": {},
   "source": [
    "## تعليمات التشغيل / Run instructions\n",
    "\n",
    "1. افتح هذا الملف في **Google Colab** مباشرة عبر: `File -> Upload notebook` أو اسحب الملف إلى Colab.\n",
    "2. من قائمة **Runtime -> Change runtime type** اختر **GPU** ثم اضغط Save.\n",
    "3. شغّل الخلايا بالترتيب من الأعلى إلى الأسفل.\n",
    "\n",
    "---\n",
    "\n",
    "## How to run\n",
    "\n",
    "1. Open this notebook in **Google Colab** (File → Upload notebook) or drag & drop the file into Colab.\n",
    "2. Go to **Runtime → Change runtime type** and select **GPU**, then Save.\n",
    "3. Run cells top to bottom.\n"
   ]
  },
  {
   "cell_type": "markdown",
   "id": "22dff30e",
   "metadata": {},
   "source": [
    "### English: MNIST CNN example\n",
    "\n",
    "### العربي: مثال بسيط على MNIST باستخدام شبكة عصبية"
   ]
  },
  {
   "cell_type": "code",
   "execution_count": null,
   "id": "4c57c888",
   "metadata": {},
   "outputs": [],
   "source": [
    "import tensorflow as tf\n",
    "from tensorflow import keras\n",
    "import matplotlib.pyplot as plt\n",
    "\n",
    "# English: Load MNIST\n",
    "(x_train, y_train), (x_test, y_test) = keras.datasets.mnist.load_data()\n",
    "# Normalize\n",
    "x_train = x_train / 255.0\n",
    "x_test = x_test / 255.0\n",
    "\n",
    "# Build simple model\n",
    "model = keras.Sequential([\n",
    "    keras.layers.Flatten(input_shape=(28,28)),\n",
    "    keras.layers.Dense(128, activation='relu'),\n",
    "    keras.layers.Dense(10, activation='softmax')\n",
    "])\n",
    "\n",
    "model.compile(optimizer='adam', loss='sparse_categorical_crossentropy', metrics=['accuracy'])\n",
    "model.fit(x_train, y_train, epochs=3)\n",
    "print('Evaluate:')\n",
    "print(model.evaluate(x_test, y_test))"
   ]
  }
 ],
 "metadata": {},
 "nbformat": 4,
 "nbformat_minor": 5
}
