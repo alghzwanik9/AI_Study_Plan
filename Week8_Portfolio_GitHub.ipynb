{
 "cells": [
  {
   "cell_type": "markdown",
   "id": "00a0de48",
   "metadata": {},
   "source": [
    "# Week 8 - Portfolio & GitHub (رفع المشاريع)\n",
    "\n",
    "**Arabic / العربية** ✅\n",
    "\n",
    "**English** ✅"
   ]
  },
  {
   "cell_type": "markdown",
   "id": "e4014685",
   "metadata": {},
   "source": [
    "## تعليمات التشغيل / Run instructions\n",
    "\n",
    "1. افتح هذا الملف في **Google Colab** مباشرة عبر: `File -> Upload notebook` أو اسحب الملف إلى Colab.\n",
    "2. من قائمة **Runtime -> Change runtime type** اختر **GPU** ثم اضغط Save.\n",
    "3. شغّل الخلايا بالترتيب من الأعلى إلى الأسفل.\n",
    "\n",
    "---\n",
    "\n",
    "## How to run\n",
    "\n",
    "1. Open this notebook in **Google Colab** (File → Upload notebook) or drag & drop the file into Colab.\n",
    "2. Go to **Runtime → Change runtime type** and select **GPU**, then Save.\n",
    "3. Run cells top to bottom.\n"
   ]
  },
  {
   "cell_type": "markdown",
   "id": "99f1ed64",
   "metadata": {},
   "source": [
    "### English: How to save notebooks and push to GitHub\n",
    "\n",
    "### العربي: كيفية حفظ النوتبوك ورفعه على GitHub\n",
    "\n",
    "Steps:\n",
    "1. In Colab: File -> Save a copy in GitHub\n",
    "2. Or download notebook and push via git\n",
    "\n",
    "مثال أوامر git (على جهازك):\n",
    "```\n",
    "git init\n",
    "git add .\n",
    "git commit -m 'first commit'\n",
    "git branch -M main\n",
    "git remote add origin <your-repo-url>\n",
    "git push -u origin main\n",
    "```"
   ]
  }
 ],
 "metadata": {},
 "nbformat": 4,
 "nbformat_minor": 5
}
