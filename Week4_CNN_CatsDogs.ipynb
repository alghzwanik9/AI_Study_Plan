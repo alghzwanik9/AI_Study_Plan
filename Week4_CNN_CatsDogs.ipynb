{
 "cells": [
  {
   "cell_type": "markdown",
   "id": "f7cea3a7",
   "metadata": {},
   "source": [
    "# Week 4 - CNN Cats vs Dogs (تصنيف صور)\n",
    "\n",
    "**Arabic / العربية** ✅\n",
    "\n",
    "**English** ✅"
   ]
  },
  {
   "cell_type": "markdown",
   "id": "8a452df5",
   "metadata": {},
   "source": [
    "## تعليمات التشغيل / Run instructions\n",
    "\n",
    "1. افتح هذا الملف في **Google Colab** مباشرة عبر: `File -> Upload notebook` أو اسحب الملف إلى Colab.\n",
    "2. من قائمة **Runtime -> Change runtime type** اختر **GPU** ثم اضغط Save.\n",
    "3. شغّل الخلايا بالترتيب من الأعلى إلى الأسفل.\n",
    "\n",
    "---\n",
    "\n",
    "## How to run\n",
    "\n",
    "1. Open this notebook in **Google Colab** (File → Upload notebook) or drag & drop the file into Colab.\n",
    "2. Go to **Runtime → Change runtime type** and select **GPU**, then Save.\n",
    "3. Run cells top to bottom.\n"
   ]
  },
  {
   "cell_type": "markdown",
   "id": "c6dfd389",
   "metadata": {},
   "source": [
    "### English: Cats vs Dogs full project\n",
    "\n",
    "### العربي: مشروع القطط والكلاب (CNN)"
   ]
  },
  {
   "cell_type": "code",
   "execution_count": null,
   "id": "4c954f86",
   "metadata": {},
   "outputs": [],
   "source": [
    "import tensorflow as tf\n",
    "from tensorflow.keras import layers, models\n",
    "import pathlib\n",
    "\n",
    "# Download dataset\n",
    "url = 'https://storage.googleapis.com/mledu-datasets/cats_and_dogs_filtered.zip'\n",
    "path_to_zip = tf.keras.utils.get_file('cats_and_dogs.zip', origin=url, extract=True)\n",
    "base_dir = pathlib.Path(path_to_zip).parent / 'cats_and_dogs_filtered'\n",
    "\n",
    "# Create datasets\n",
    "train_ds = tf.keras.utils.image_dataset_from_directory(base_dir / 'train', image_size=(180,180), batch_size=32)\n",
    "val_ds = tf.keras.utils.image_dataset_from_directory(base_dir / 'validation', image_size=(180,180), batch_size=32)\n",
    "\n",
    "# Model\n",
    "model = models.Sequential([\n",
    "    layers.Rescaling(1./255, input_shape=(180,180,3)),\n",
    "    layers.Conv2D(32,3,activation='relu'),\n",
    "    layers.MaxPooling2D(),\n",
    "    layers.Conv2D(64,3,activation='relu'),\n",
    "    layers.MaxPooling2D(),\n",
    "    layers.Flatten(),\n",
    "    layers.Dense(128, activation='relu'),\n",
    "    layers.Dense(2)\n",
    "])\n",
    "\n",
    "model.compile(optimizer='adam', loss=tf.keras.losses.SparseCategoricalCrossentropy(from_logits=True), metrics=['accuracy'])\n",
    "model.fit(train_ds, validation_data=val_ds, epochs=5)"
   ]
  }
 ],
 "metadata": {},
 "nbformat": 4,
 "nbformat_minor": 5
}
